{
 "cells": [
  {
   "cell_type": "code",
   "execution_count": 1,
   "metadata": {
    "collapsed": true
   },
   "outputs": [],
   "source": [
    "import numpy as np\n",
    "import pandas as pd"
   ]
  },
  {
   "cell_type": "code",
   "execution_count": 2,
   "metadata": {
    "collapsed": true
   },
   "outputs": [],
   "source": [
    "sig_pd = pd.read_hdf(\"signalPandas.h5\")\n",
    "bkg_pd = pd.read_hdf(\"bkgPandas.h5\")"
   ]
  },
  {
   "cell_type": "code",
   "execution_count": 4,
   "metadata": {
    "collapsed": true
   },
   "outputs": [],
   "source": [
    "import matplotlib\n",
    "import matplotlib.pyplot as plt\n",
    "from sklearn.model_selection import train_test_split\n",
    "%matplotlib inline"
   ]
  },
  {
   "cell_type": "code",
   "execution_count": 5,
   "metadata": {
    "collapsed": true
   },
   "outputs": [],
   "source": [
    "trainVars = [\"tj1_mv2c10\", \"tj2_mv2c10\"]\n",
    "df =  pd.concat((sig_pd[trainVars], bkg_pd[trainVars]), ignore_index=True)"
   ]
  },
  {
   "cell_type": "code",
   "execution_count": 6,
   "metadata": {},
   "outputs": [
    {
     "data": {
      "text/html": [
       "<div>\n",
       "<style>\n",
       "    .dataframe thead tr:only-child th {\n",
       "        text-align: right;\n",
       "    }\n",
       "\n",
       "    .dataframe thead th {\n",
       "        text-align: left;\n",
       "    }\n",
       "\n",
       "    .dataframe tbody tr th {\n",
       "        vertical-align: top;\n",
       "    }\n",
       "</style>\n",
       "<table border=\"1\" class=\"dataframe\">\n",
       "  <thead>\n",
       "    <tr style=\"text-align: right;\">\n",
       "      <th></th>\n",
       "      <th>tj1_mv2c10</th>\n",
       "      <th>tj2_mv2c10</th>\n",
       "    </tr>\n",
       "  </thead>\n",
       "  <tbody>\n",
       "    <tr>\n",
       "      <th>0</th>\n",
       "      <td>-0.601051</td>\n",
       "      <td>-0.278343</td>\n",
       "    </tr>\n",
       "    <tr>\n",
       "      <th>1</th>\n",
       "      <td>0.999103</td>\n",
       "      <td>0.949995</td>\n",
       "    </tr>\n",
       "    <tr>\n",
       "      <th>2</th>\n",
       "      <td>0.998673</td>\n",
       "      <td>0.998452</td>\n",
       "    </tr>\n",
       "    <tr>\n",
       "      <th>3</th>\n",
       "      <td>0.990990</td>\n",
       "      <td>0.988278</td>\n",
       "    </tr>\n",
       "    <tr>\n",
       "      <th>4</th>\n",
       "      <td>0.966811</td>\n",
       "      <td>0.990019</td>\n",
       "    </tr>\n",
       "  </tbody>\n",
       "</table>\n",
       "</div>"
      ],
      "text/plain": [
       "   tj1_mv2c10  tj2_mv2c10\n",
       "0   -0.601051   -0.278343\n",
       "1    0.999103    0.949995\n",
       "2    0.998673    0.998452\n",
       "3    0.990990    0.988278\n",
       "4    0.966811    0.990019"
      ]
     },
     "execution_count": 6,
     "metadata": {},
     "output_type": "execute_result"
    }
   ],
   "source": [
    "df.head()"
   ]
  },
  {
   "cell_type": "code",
   "execution_count": 7,
   "metadata": {},
   "outputs": [
    {
     "data": {
      "text/plain": [
       "(5843071, 2)"
      ]
     },
     "execution_count": 7,
     "metadata": {},
     "output_type": "execute_result"
    }
   ],
   "source": [
    "X = df.as_matrix()\n",
    "type(X)\n",
    "X.shape"
   ]
  },
  {
   "cell_type": "code",
   "execution_count": 8,
   "metadata": {
    "collapsed": true
   },
   "outputs": [],
   "source": [
    "w =  pd.concat((sig_pd['weight'], bkg_pd['weight']), ignore_index=True).values"
   ]
  },
  {
   "cell_type": "code",
   "execution_count": 9,
   "metadata": {
    "collapsed": true
   },
   "outputs": [],
   "source": [
    "y = []\n",
    "for _df, ID in [(sig_pd, -1), (bkg_pd, 1)]:\n",
    "    y.extend([ID] * _df.shape[0])\n",
    "y = np.array(y)"
   ]
  },
  {
   "cell_type": "code",
   "execution_count": 10,
   "metadata": {},
   "outputs": [
    {
     "name": "stderr",
     "output_type": "stream",
     "text": [
      "/afs/cern.ch/work/r/rateixei/work/ML/Miniconda/mc3/envs/mlenv2/lib/python3.6/site-packages/sklearn/model_selection/_split.py:2010: FutureWarning: From version 0.21, test_size will always complement train_size unless both are specified.\n",
      "  FutureWarning)\n"
     ]
    }
   ],
   "source": [
    "ix = range(X.shape[0]) # array of indices, just to keep track of them for safety reasons and future checks\n",
    "X_train, X_test, y_train, y_test, w_train, w_test, ix_train, ix_test = train_test_split(X, y, w, ix, train_size=0.6)"
   ]
  },
  {
   "cell_type": "code",
   "execution_count": 11,
   "metadata": {
    "collapsed": true
   },
   "outputs": [],
   "source": [
    "from sklearn.preprocessing import StandardScaler\n",
    "scaler = StandardScaler()\n",
    "X_train = scaler.fit_transform(X_train)\n",
    "X_test = scaler.transform(X_test)"
   ]
  },
  {
   "cell_type": "code",
   "execution_count": 12,
   "metadata": {},
   "outputs": [
    {
     "name": "stderr",
     "output_type": "stream",
     "text": [
      "Using Theano backend.\n"
     ]
    }
   ],
   "source": [
    "from keras.models import Model\n",
    "from keras.layers import Dense, Dropout, Input"
   ]
  },
  {
   "cell_type": "code",
   "execution_count": 13,
   "metadata": {
    "collapsed": true
   },
   "outputs": [],
   "source": [
    "inputs = Input(shape=(X_train.shape[1], )) # placeholder\n",
    "\n",
    "hidden = Dense(10, activation='relu')(inputs)\n",
    "# hidden = Dropout(0.2)(hidden)\n",
    "# hidden = Dense(20, activation='relu')(hidden)\n",
    "# hidden = Dropout(0.2)(hidden)\n",
    "# hidden = Dense(30, activation='relu')(hidden)\n",
    "# hidden = Dropout(0.2)(hidden)\n",
    "outputs = Dense(1, activation='sigmoid')(hidden)\n",
    "model = Model(inputs, outputs)\n"
   ]
  },
  {
   "cell_type": "code",
   "execution_count": 14,
   "metadata": {},
   "outputs": [
    {
     "name": "stdout",
     "output_type": "stream",
     "text": [
      "_________________________________________________________________\n",
      "Layer (type)                 Output Shape              Param #   \n",
      "=================================================================\n",
      "input_1 (InputLayer)         (None, 2)                 0         \n",
      "_________________________________________________________________\n",
      "dense_1 (Dense)              (None, 10)                30        \n",
      "_________________________________________________________________\n",
      "dense_2 (Dense)              (None, 1)                 11        \n",
      "=================================================================\n",
      "Total params: 41\n",
      "Trainable params: 41\n",
      "Non-trainable params: 0\n",
      "_________________________________________________________________\n"
     ]
    }
   ],
   "source": [
    "model.summary()"
   ]
  },
  {
   "cell_type": "code",
   "execution_count": 15,
   "metadata": {
    "collapsed": true
   },
   "outputs": [],
   "source": [
    "model.compile('adam', 'binary_crossentropy')"
   ]
  },
  {
   "cell_type": "code",
   "execution_count": 16,
   "metadata": {
    "collapsed": true
   },
   "outputs": [],
   "source": [
    "from keras.callbacks import EarlyStopping, ModelCheckpoint"
   ]
  },
  {
   "cell_type": "code",
   "execution_count": 17,
   "metadata": {},
   "outputs": [
    {
     "data": {
      "text/plain": [
       "Counter({-1: 16157, 1: 2321072})"
      ]
     },
     "execution_count": 17,
     "metadata": {},
     "output_type": "execute_result"
    }
   ],
   "source": [
    "from collections import Counter\n",
    "Counter(y_test)"
   ]
  },
  {
   "cell_type": "code",
   "execution_count": 20,
   "metadata": {},
   "outputs": [
    {
     "name": "stdout",
     "output_type": "stream",
     "text": [
      "Training:\n",
      "Train on 2804673 samples, validate on 701169 samples\n",
      "Epoch 1/20\n",
      "2802656/2804673 [============================>.] - ETA: 0s - loss: -13.2070Epoch 00000: val_loss improved from inf to -12.77643, saving model to tutorial-progress.h5\n",
      "2804673/2804673 [==============================] - 49s - loss: -13.2047 - val_loss: -12.7764\n",
      "Epoch 2/20\n",
      "2803872/2804673 [============================>.] - ETA: 0s - loss: -13.5882Epoch 00001: val_loss improved from -12.77643 to -12.90382, saving model to tutorial-progress.h5\n",
      "2804673/2804673 [==============================] - 49s - loss: -13.5933 - val_loss: -12.9038\n",
      "Epoch 3/20\n",
      "2802176/2804673 [============================>.] - ETA: 0s - loss: -13.6556Epoch 00002: val_loss improved from -12.90382 to -12.91082, saving model to tutorial-progress.h5\n",
      "2804673/2804673 [==============================] - 48s - loss: -13.6603 - val_loss: -12.9108\n",
      "Epoch 4/20\n",
      "2801632/2804673 [============================>.] - ETA: 0s - loss: -13.6734Epoch 00003: val_loss improved from -12.91082 to -12.96934, saving model to tutorial-progress.h5\n",
      "2804673/2804673 [==============================] - 47s - loss: -13.6750 - val_loss: -12.9693\n",
      "Epoch 5/20\n",
      "2801952/2804673 [============================>.] - ETA: 0s - loss: -13.6975Epoch 00004: val_loss did not improve\n",
      "2804673/2804673 [==============================] - 49s - loss: -13.6952 - val_loss: -12.9673\n",
      "Epoch 6/20\n",
      "2804640/2804673 [============================>.] - ETA: 0s - loss: -13.6976Epoch 00005: val_loss improved from -12.96934 to -12.98389, saving model to tutorial-progress.h5\n",
      "2804673/2804673 [==============================] - 48s - loss: -13.6974 - val_loss: -12.9839\n",
      "Epoch 7/20\n",
      "2804480/2804673 [============================>.] - ETA: 0s - loss: -13.7021- ETA: 0s - loss: -13.7Epoch 00006: val_loss did not improve\n",
      "2804673/2804673 [==============================] - 48s - loss: -13.7010 - val_loss: -12.9764\n",
      "Epoch 8/20\n",
      "2804320/2804673 [============================>.] - ETA: 0s - loss: -13.7120Epoch 00007: val_loss improved from -12.98389 to -13.00219, saving model to tutorial-progress.h5\n",
      "2804673/2804673 [==============================] - 49s - loss: -13.7101 - val_loss: -13.0022\n",
      "Epoch 9/20\n",
      "2802432/2804673 [============================>.] - ETA: 0s - loss: -13.6913Epoch 00008: val_loss did not improve\n",
      "2804673/2804673 [==============================] - 48s - loss: -13.6943 - val_loss: -12.9669\n",
      "Epoch 10/20\n",
      "2801728/2804673 [============================>.] - ETA: 0s - loss: -13.7110Epoch 00009: val_loss did not improve\n",
      "2804673/2804673 [==============================] - 48s - loss: -13.7078 - val_loss: -12.9101\n",
      "Epoch 11/20\n",
      "2803744/2804673 [============================>.] - ETA: 0s - loss: -13.7244Epoch 00010: val_loss improved from -13.00219 to -13.01818, saving model to tutorial-progress.h5\n",
      "2804673/2804673 [==============================] - 48s - loss: -13.7201 - val_loss: -13.0182\n",
      "Epoch 12/20\n",
      "2803968/2804673 [============================>.] - ETA: 0s - loss: -13.7321Epoch 00011: val_loss improved from -13.01818 to -13.03867, saving model to tutorial-progress.h5\n",
      "2804673/2804673 [==============================] - 48s - loss: -13.7317 - val_loss: -13.0387\n",
      "Epoch 13/20\n",
      "2804544/2804673 [============================>.] - ETA: 0s - loss: -13.7321Epoch 00012: val_loss did not improve\n",
      "2804673/2804673 [==============================] - 49s - loss: -13.7330 - val_loss: -13.0264\n",
      "Epoch 14/20\n",
      "2803808/2804673 [============================>.] - ETA: 0s - loss: -13.7395Epoch 00013: val_loss did not improve\n",
      "2804673/2804673 [==============================] - 47s - loss: -13.7389 - val_loss: -13.0235\n",
      "Epoch 15/20\n",
      "2803520/2804673 [============================>.] - ETA: 0s - loss: -13.7336- ETA: 1s - loss: -13.73 - E - ETA: 0s - loss: -13.7387Epoch 00014: val_loss improved from -13.03867 to -13.04778, saving model to tutorial-progress.h5\n",
      "2804673/2804673 [==============================] - 47s - loss: -13.7397 - val_loss: -13.0478\n",
      "Epoch 16/20\n",
      "2804608/2804673 [============================>.] - ETA: 0s - loss: -13.7412Epoch 00015: val_loss did not improve\n",
      "2804673/2804673 [==============================] - 48s - loss: -13.7409 - val_loss: -13.0274\n",
      "Epoch 17/20\n",
      "2803776/2804673 [============================>.] - ETA: 0s - loss: -13.7468Epoch 00016: val_loss did not improve\n",
      "2804673/2804673 [==============================] - 48s - loss: -13.7452 - val_loss: -13.0187\n",
      "Epoch 18/20\n",
      "2804480/2804673 [============================>.] - ETA: 0s - loss: -13.7513Epoch 00017: val_loss did not improve\n",
      "2804673/2804673 [==============================] - 47s - loss: -13.7511 - val_loss: -12.9728\n",
      "Epoch 19/20\n",
      "2802816/2804673 [============================>.] - ETA: 0s - loss: -13.7527- ETA: 1s - loss: -13. - ETA: 0s Epoch 00018: val_loss did not improve\n",
      "2804673/2804673 [==============================] - 47s - loss: -13.7568 - val_loss: -12.9712\n",
      "Epoch 20/20\n",
      "2804160/2804673 [============================>.] - ETA: 0s - loss: -13.7433Epoch 00019: val_loss did not improve\n",
      "2804673/2804673 [==============================] - 48s - loss: -13.7446 - val_loss: -13.0439\n"
     ]
    }
   ],
   "source": [
    "print ('Training:')\n",
    "try:\n",
    "    model.fit(\n",
    "        X_train, y_train, class_weight={ # rebalance class representation\n",
    "            -1 : (float(len(y)) / (y == -1).sum()),\n",
    "            1 : (float(len(y)) / (y == 1).sum())\n",
    "        },\n",
    "        callbacks = [\n",
    "            EarlyStopping(verbose=True, patience=10, monitor='val_loss'),\n",
    "            ModelCheckpoint('tutorial-progress.h5', monitor='val_loss', verbose=True, save_best_only=True)\n",
    "        ],\n",
    "        epochs=20, \n",
    "        validation_split = 0.2,\n",
    "        verbose=True\n",
    ") \n",
    "except KeyboardInterrupt:\n",
    "    print ('Training ended early.')"
   ]
  },
  {
   "cell_type": "code",
   "execution_count": 22,
   "metadata": {},
   "outputs": [
    {
     "name": "stdout",
     "output_type": "stream",
     "text": [
      "Testing...\n",
      "2280448/2337229 [============================>.] - ETA: 0s"
     ]
    }
   ],
   "source": [
    "print ('Testing...')\n",
    "yhat = model.predict(X_test, verbose = True, batch_size = 512)"
   ]
  },
  {
   "cell_type": "code",
   "execution_count": 23,
   "metadata": {
    "collapsed": true
   },
   "outputs": [],
   "source": [
    "from sklearn.metrics import roc_curve"
   ]
  },
  {
   "cell_type": "code",
   "execution_count": 24,
   "metadata": {
    "collapsed": true
   },
   "outputs": [],
   "source": [
    "fpr_nn, tpr_nn, _ = roc_curve(y_test, yhat)"
   ]
  },
  {
   "cell_type": "code",
   "execution_count": 30,
   "metadata": {},
   "outputs": [],
   "source": [
    "fpr_mv2, tpr_mv2, _ = roc_curve( y, np.minimum( df[\"tj1_mv2c10\"].values, df[\"tj2_mv2c10\"].values ) )"
   ]
  },
  {
   "cell_type": "code",
   "execution_count": 45,
   "metadata": {},
   "outputs": [
    {
     "data": {
      "image/png": "[encoded data removed]",
      "text/plain": [
       "<matplotlib.figure.Figure at 0x7f094d8d0b70>"
      ]
     },
     "metadata": {},
     "output_type": "display_data"
    }
   ],
   "source": [
    "plt.figure()\n",
    "lw = 2\n",
    "plt.plot(tpr_nn, 1./fpr_nn, color='darkorange',\n",
    "         lw=lw, label='NN')\n",
    "plt.plot(fpr_mv2, 1./tpr_mv2, color='navy',\n",
    "         lw=lw, label='double-b tag')\n",
    "# plt.plot([0, 1], [0, 1], color='navy', lw=lw, linestyle='--')\n",
    "plt.xlim([0.0, 1.05])\n",
    "plt.ylim([1.0, 100000])\n",
    "plt.xlabel('Signal Efficiency')\n",
    "plt.ylabel('Background Rejection')\n",
    "plt.title('Receiver operating characteristic example')\n",
    "plt.legend(loc=\"upper right\")\n",
    "plt.yscale('log')\n",
    "\n",
    "plt.show()"
   ]
  },
  {
   "cell_type": "code",
   "execution_count": 40,
   "metadata": {
    "collapsed": true
   },
   "outputs": [],
   "source": [
    "X_all = scaler.transform(X)"
   ]
  },
  {
   "cell_type": "code",
   "execution_count": 46,
   "metadata": {},
   "outputs": [
    {
     "name": "stdout",
     "output_type": "stream",
     "text": [
      "5772800/5843071 [============================>.] - ETA: 0s"
     ]
    }
   ],
   "source": [
    "yhat_all = model.predict(X_all, verbose = True, batch_size = 512)"
   ]
  },
  {
   "cell_type": "code",
   "execution_count": 47,
   "metadata": {
    "collapsed": true
   },
   "outputs": [],
   "source": [
    "fpr_nn_all, tpr_nn_all, _ = roc_curve(y, yhat_all)"
   ]
  },
  {
   "cell_type": "code",
   "execution_count": 48,
   "metadata": {},
   "outputs": [
    {
     "data": {
      "image/png": "[encoded data removed]",
      "text/plain": [
       "<matplotlib.figure.Figure at 0x7f094d8aeef0>"
      ]
     },
     "metadata": {},
     "output_type": "display_data"
    }
   ],
   "source": [
    "plt.figure()\n",
    "lw = 2\n",
    "plt.plot(tpr_nn_all, 1./fpr_nn_all, color='darkorange',\n",
    "         lw=lw, label='NN')\n",
    "plt.plot(fpr_mv2, 1./tpr_mv2, color='navy',\n",
    "         lw=lw, label='double-b tag')\n",
    "# plt.plot([0, 1], [0, 1], color='navy', lw=lw, linestyle='--')\n",
    "plt.xlim([0.0, 1.05])\n",
    "plt.ylim([1.0, 100000])\n",
    "plt.xlabel('Signal Efficiency')\n",
    "plt.ylabel('Background Rejection')\n",
    "plt.title('Receiver operating characteristic example')\n",
    "plt.legend(loc=\"upper right\")\n",
    "plt.yscale('log')\n",
    "\n",
    "plt.show()"
   ]
  },
  {
   "cell_type": "code",
   "execution_count": null,
   "metadata": {
    "collapsed": true
   },
   "outputs": [],
   "source": []
  }
 ],
 "metadata": {
  "kernelspec": {
   "display_name": "Python 3",
   "language": "python",
   "name": "python3"
  },
  "language_info": {
   "codemirror_mode": {
    "name": "ipython",
    "version": 3
   },
   "file_extension": ".py",
   "mimetype": "text/x-python",
   "name": "python",
   "nbconvert_exporter": "python",
   "pygments_lexer": "ipython3",
   "version": "3.6.2"
  }
 },
 "nbformat": 4,
 "nbformat_minor": 2
}
